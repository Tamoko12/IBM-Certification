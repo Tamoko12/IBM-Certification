{
 "cells": [
  {
   "cell_type": "markdown",
   "id": "b4d32d09-11ed-4c8b-b64c-a44e681a1424",
   "metadata": {},
   "source": [
    "# Data Science Tools and Ecosystem"
   ]
  },
  {
   "cell_type": "markdown",
   "id": "66fc2cab-f663-4f28-ae31-22b26ff10ced",
   "metadata": {},
   "source": [
    "In this notebook, Data Science Tools and Ecosystem are summarized."
   ]
  },
  {
   "cell_type": "markdown",
   "id": "329c1cb4-65c0-4a4d-a38a-f387cfcd5f1e",
   "metadata": {},
   "source": [
    "**Objectives:**\n",
    "\n",
    "* List popular languages for Data Science.\n",
    "* List common libraries used in Data Science.\n",
    "* Provide an example of using arithmetic in Python\n",
    "* Showcase how to use comments in Python."
   ]
  },
  {
   "cell_type": "markdown",
   "id": "77e7bbcc-e2fc-4746-a61a-49010d9ca8dc",
   "metadata": {},
   "source": [
    "Some of the popular languages that Data Scientists use are:\n",
    "1. R\n",
    "2. SQL\n",
    "3. Python"
   ]
  },
  {
   "cell_type": "markdown",
   "id": "80e8d6f7-92ce-405e-ad49-b8d9b294a1a5",
   "metadata": {},
   "source": [
    "Some of the commonly libraries used by Data Scientists include:\n",
    "1. TensorFlow\n",
    "2. Plotly\n",
    "3. Matplotlib\n",
    "4. ggplot2\n",
    "5. pandas     "
   ]
  },
  {
   "cell_type": "markdown",
   "id": "bec81da6-b17c-4a9c-b59e-2966c97bb5bd",
   "metadata": {},
   "source": [
    "| Data Science Tools   |\n",
    "|----------------------|\n",
    "| JupyterLab            |\n",
    "| Google Colab             |\n",
    "| R Studio           |"
   ]
  },
  {
   "cell_type": "markdown",
   "id": "77419a3a-94a4-467d-b7c0-7dfdba8eb96d",
   "metadata": {},
   "source": [
    "### Below are a few examples of evaluating arithmetic expressions in Python"
   ]
  },
  {
   "cell_type": "code",
   "execution_count": 4,
   "id": "87e53864-fe28-455d-97b9-f455877bd042",
   "metadata": {},
   "outputs": [
    {
     "data": {
      "text/plain": [
       "17"
      ]
     },
     "execution_count": 4,
     "metadata": {},
     "output_type": "execute_result"
    }
   ],
   "source": [
    "#This is a simple arithmetic expression to multiply and then add integers. \n",
    "(3*4)+5"
   ]
  },
  {
   "cell_type": "code",
   "execution_count": 3,
   "id": "46b738e8-0e5a-4ba0-84d6-bb83ea23e1d2",
   "metadata": {},
   "outputs": [
    {
     "data": {
      "text/plain": [
       "3.3333333333333335"
      ]
     },
     "execution_count": 3,
     "metadata": {},
     "output_type": "execute_result"
    }
   ],
   "source": [
    "# This will convert 200 minutes to hours by dividing by 60.\n",
    "200 / 60"
   ]
  },
  {
   "cell_type": "markdown",
   "id": "0e28a6f3-bb90-41d3-b95c-9898f125bf50",
   "metadata": {},
   "source": [
    "## Author\n",
    "Sam Tadlock"
   ]
  },
  {
   "cell_type": "code",
   "execution_count": null,
   "id": "4281399c-7bc4-42c6-b3ef-22f49121ee0f",
   "metadata": {},
   "outputs": [],
   "source": []
  }
 ],
 "metadata": {
  "kernelspec": {
   "display_name": "Python 3 (ipykernel)",
   "language": "python",
   "name": "python3"
  },
  "language_info": {
   "codemirror_mode": {
    "name": "ipython",
    "version": 3
   },
   "file_extension": ".py",
   "mimetype": "text/x-python",
   "name": "python",
   "nbconvert_exporter": "python",
   "pygments_lexer": "ipython3",
   "version": "3.11.7"
  }
 },
 "nbformat": 4,
 "nbformat_minor": 5
}
